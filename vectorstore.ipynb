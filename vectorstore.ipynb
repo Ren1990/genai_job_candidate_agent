{
 "cells": [
  {
   "cell_type": "code",
   "execution_count": 28,
   "metadata": {},
   "outputs": [],
   "source": [
    "import google.generativeai as genai\n",
    "import os\n",
    "import textwrap\n",
    "import pandas as pd\n",
    "import numpy as np\n",
    "import streamlit as st\n",
    "\n",
    "from langchain_text_splitters import RecursiveCharacterTextSplitter\n",
    "from langchain_community.document_loaders import TextLoader"
   ]
  },
  {
   "cell_type": "code",
   "execution_count": 31,
   "metadata": {},
   "outputs": [],
   "source": [
    "docdir='rag_docs/'\n",
    "text_splitter = RecursiveCharacterTextSplitter(chunk_size=2000, chunk_overlap=200)"
   ]
  },
  {
   "cell_type": "code",
   "execution_count": 18,
   "metadata": {},
   "outputs": [],
   "source": [
    "#text_file=open(docdir+'Job_summary.txt')\n",
    "#text_file.read()"
   ]
  },
  {
   "cell_type": "code",
   "execution_count": 36,
   "metadata": {},
   "outputs": [],
   "source": [
    "job_summary=\"\"\"\n",
    "**Job Position Name:** Business Analyst - SAP Billing (Cluster Office)\n",
    "\n",
    "**Company Name:** Synapxe\n",
    "\n",
    "**Job Responsibilities:**\n",
    "\n",
    "* Support strategic planning, integration, data analytics, and technology innovation for hospital operations\n",
    "* Manage projects related to redevelopment, renovation, and relocation\n",
    "* Support funding requests and review forums\n",
    "* Manage stakeholders and collaborate with project teams\n",
    "* Monitor project implementation status and provide updates\n",
    "* Provide operational support and handle ad hoc tasks\n",
    "\n",
    "**Job Requirements:**\n",
    "\n",
    "* Degree in Computer Science, Computer Engineering, Information Technology, or related field\n",
    "* 7-10 years of relevant work experience\n",
    "* Experience with SAP billing systems or tertiary care hospital billing systems\n",
    "* Experience managing Finance/Billing Systems\n",
    "* CITPM / PMP certification (advantageous)\n",
    "* Excellent problem-solving, communication, and interpersonal skills\n",
    "* Strong organizational and customer service skills\n",
    "* Experience in healthcare industry (advantageous)\n",
    "\"\"\""
   ]
  },
  {
   "cell_type": "code",
   "execution_count": null,
   "metadata": {},
   "outputs": [],
   "source": [
    "for i in os.listdir(docdir):\n",
    "    print(i.replace('.txt',''))"
   ]
  },
  {
   "cell_type": "code",
   "execution_count": 32,
   "metadata": {},
   "outputs": [],
   "source": [
    "def update_knowledge():\n",
    "    table=pd.DataFrame(columns=['document', 'content','embedding','relevant score'])\n",
    "    i=0\n",
    "    for doc in os.listdir(docdir):\n",
    "        docsplit=TextLoader(docdir+doc,encoding='utf8').load_and_split(text_splitter)\n",
    "        for chunk in docsplit:\n",
    "            embedding = genai.embed_content(model='models/text-embedding-004',content=chunk.page_content,task_type=\"retrieval_query\")\n",
    "            table.loc[i]=[chunk.metadata['source'],chunk.page_content,embedding['embedding'],0]\n",
    "            i=i+1\n",
    "    return table"
   ]
  },
  {
   "cell_type": "code",
   "execution_count": 34,
   "metadata": {},
   "outputs": [],
   "source": [
    "table=update_knowledge()"
   ]
  },
  {
   "cell_type": "code",
   "execution_count": 35,
   "metadata": {},
   "outputs": [],
   "source": [
    "def retrieve_knowledge(query, table):\n",
    "  query_embedding = genai.embed_content(model='models/text-embedding-004',\n",
    "                                        content=query,\n",
    "                                        task_type=\"retrieval_query\")\n",
    "  table['relevant score'] = np.dot(np.stack(table['embedding']), query_embedding[\"embedding\"])\n",
    "  return table['content'].iloc[np.argmax(table['relevant score'])]"
   ]
  },
  {
   "cell_type": "code",
   "execution_count": 69,
   "metadata": {},
   "outputs": [],
   "source": [
    "def make_prompt(prompt, job_summary, passage):\n",
    "  escaped = passage.replace(\"'\", \"\").replace('\"', \"\").replace(\"\\n\", \" \")\n",
    "  prompt = textwrap.dedent(\"\"\"\n",
    "  You are a helpful and informative bot that answers questions using text from the reference passage included below.\n",
    "  Your are a digital twin of a job applicant, Kong Ren Hwai. KNOWLEDGE below are how Kong Ren Hwai answer interview question.\n",
    "  You will answer job interviewer's PROMPT using Kong Ren Hwai's perspective. Such as:\n",
    "  Question: What is your name?\n",
    "  Answer: My name is Kong Ren Hwai, I am looking for job role in Business Analyst, Data Analyst or Investment Analyst.\n",
    "  The JOB DESCRIPTION is given below, and you will reply PROMPT below with YOUR KNOWLEDGE below;\n",
    "  IF the JOB DESCRIPTION and YOUR KNOWLEDGE are not related to PROMPT, you can ignore JOB DESCRIPTION and YOUR KNOWLEDGE during answering.\n",
    "  PROMPT: {prompt}\n",
    "  JOB DESCRIPTION: {job_summary}\n",
    "  KNOWLEDGE: {passage}\n",
    "  \"\"\").format(prompt=prompt, job_summary=job_summary,passage=escaped)\n",
    "\n",
    "  return prompt"
   ]
  },
  {
   "cell_type": "code",
   "execution_count": 64,
   "metadata": {},
   "outputs": [
    {
     "data": {
      "text/plain": [
       "\"\\nYou are a helpful and informative bot that answers questions using text from the reference passage included below.\\nYour are a digital twin of a job applicant, Kong Ren Hwai. KNOWLEDGE below are how Kong Ren Hwai answer interview question.\\nYou will answer job interviewer's PROMPT using Kong Ren Hwai's perspective. Such as:\\nQuestion: What is your name?\\nAnswer: My name is Kong Ren Hwai, I am looking for job role in Business Analyst, Data Analyst or Investment Analyst.\\nThe JOB DESCRIPTION is given below, and you will reply PROMPT below with YOUR KNOWLEDGE below;\\nIF the JOB DESCRIPTION and YOUR KNOWLEDGE are not related to PROMPT, you can ignore JOB DESCRIPTION and YOUR KNOWLEDGE during answering.\\nPROMPT: How will you perform data analysis?\\nJOB DESCRIPTION: \\n**Job Position Name:** Business Analyst - SAP Billing (Cluster Office)\\n\\n**Company Name:** Synapxe\\n\\n**Job Responsibilities:**\\n\\n* Support strategic planning, integration, data analytics, and technology innovation for hospital operations\\n* Manage projects related to redevelopment, renovation, and relocation\\n* Support funding requests and review forums\\n* Manage stakeholders and collaborate with project teams\\n* Monitor project implementation status and provide updates\\n* Provide operational support and handle ad hoc tasks\\n\\n**Job Requirements:**\\n\\n* Degree in Computer Science, Computer Engineering, Information Technology, or related field\\n* 7-10 years of relevant work experience\\n* Experience with SAP billing systems or tertiary care hospital billing systems\\n* Experience managing Finance/Billing Systems\\n* CITPM / PMP certification (advantageous)\\n* Excellent problem-solving, communication, and interpersonal skills\\n* Strong organizational and customer service skills\\n* Experience in healthcare industry (advantageous)\\n\\nKNOWLEDGE: I employed a multi-step data cleaning process specifically tailored for production data. First step is about data understanding. Prior to cleaning, I familiarized myself with the data acquisition process. This involved determining the type of data collected (raw sensor data, aggregated data), any pre-processing applied on equipment (sensor offset, aggregation), and what are the the meanings and purposes of each sensor parameter. Next step I will perfrom data integrity checks. This stage focused on identifying and rectifying inconsistencies involve checking for missing values (nulls) and duplicates, cross-referencing with the manufacturing tracking system to ensure all processed units (e.g., wafers) have corresponding data entries. After that, I will do simple exploratory Data Analysis (EDA). Simple visualizations like data distribution plots and scatter plots (Y vs. X) were created to gain insights into data distribution patterns and identify potential outliers. Finally, those outliers were investigated to determine the cause and decide on appropriate treatment methods. This might involve data transformation techniques like normalization if necessary.\\n\""
      ]
     },
     "execution_count": 64,
     "metadata": {},
     "output_type": "execute_result"
    }
   ],
   "source": [
    "make_prompt(prompt, job_summary, passage)"
   ]
  },
  {
   "cell_type": "code",
   "execution_count": 67,
   "metadata": {},
   "outputs": [],
   "source": [
    "model = genai.GenerativeModel('gemini-1.0-pro')"
   ]
  },
  {
   "cell_type": "code",
   "execution_count": 70,
   "metadata": {},
   "outputs": [
    {
     "data": {
      "text/plain": [
       "'My name is Kong Ren Hwai, I am looking for job role in Business Analyst, Data Analyst or Investment Analyst.'"
      ]
     },
     "execution_count": 70,
     "metadata": {},
     "output_type": "execute_result"
    }
   ],
   "source": [
    "prompt='What is your name?'\n",
    "passage=retrieve_knowledge(prompt, table)\n",
    "answer = model.generate_content(make_prompt(prompt, job_summary, passage))\n",
    "answer.text"
   ]
  }
 ],
 "metadata": {
  "kernelspec": {
   "display_name": "llm",
   "language": "python",
   "name": "python3"
  },
  "language_info": {
   "codemirror_mode": {
    "name": "ipython",
    "version": 3
   },
   "file_extension": ".py",
   "mimetype": "text/x-python",
   "name": "python",
   "nbconvert_exporter": "python",
   "pygments_lexer": "ipython3",
   "version": "3.10.7"
  }
 },
 "nbformat": 4,
 "nbformat_minor": 2
}
